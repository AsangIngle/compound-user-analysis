{
 "cells": [
  {
   "cell_type": "code",
   "execution_count": 110,
   "id": "9d9258a7",
   "metadata": {},
   "outputs": [
    {
     "data": {
      "text/plain": [
       "True"
      ]
     },
     "execution_count": 110,
     "metadata": {},
     "output_type": "execute_result"
    }
   ],
   "source": [
    "import pandas as pd\n",
    "import numpy as np\n",
    "import json\n",
    "import os\n",
    "import requests\n",
    "import time\n",
    "from dotenv import load_dotenv\n",
    "from sklearn.preprocessing import MinMaxScaler\n",
    "df=pd.read_csv('Sheet1.csv')\n",
    "from sklearn.cluster import KMeans\n",
    "import matplotlib.pyplot as plt\n",
    "\n",
    "load_dotenv()"
   ]
  },
  {
   "cell_type": "code",
   "execution_count": 81,
   "id": "138e5b47",
   "metadata": {},
   "outputs": [],
   "source": [
    "wallet_ids=list(df['wallet_id'].values)\n",
    "\n"
   ]
  },
  {
   "cell_type": "code",
   "execution_count": 93,
   "id": "54e7eaee",
   "metadata": {},
   "outputs": [],
   "source": [
    "api_key=os.getenv('api_key')\n",
    "api_key2=os.getenv('api_key2')"
   ]
  },
  {
   "cell_type": "code",
   "execution_count": 94,
   "id": "aebcd5d0",
   "metadata": {},
   "outputs": [],
   "source": [
    "compound_contracts={\n",
    "    \"cETH\": \"0x4ddc2d193948926d02f9b1fe9e1daa0718270ed5\",\n",
    "    \"cDAI\": \"0x5d3a536e4d6dbd6114cc1ead35777bab948e3643\",\n",
    "    \"cUSDC\": \"0x39aa39c021dfbae8fac545936693ac917d5e7563\",\n",
    "}"
   ]
  },
  {
   "cell_type": "code",
   "execution_count": null,
   "id": "18e40e2a",
   "metadata": {},
   "outputs": [],
   "source": []
  },
  {
   "cell_type": "code",
   "execution_count": 85,
   "id": "fea72383",
   "metadata": {},
   "outputs": [
    {
     "name": "stdout",
     "output_type": "stream",
     "text": [
      "[EXCEPTION] Wallet 0x623af911f493747c216ad389c7805a37019c662d | ('Connection aborted.', RemoteDisconnected('Remote end closed connection without response'))\n"
     ]
    }
   ],
   "source": [
    "def fetch_compund_txns(wallet,chain_id='1'):  # chain_id='1'#universal identifier for Ethereum main network.\n",
    "    url=f\"https://api.covalenthq.com/v1/{chain_id}/address/{wallet}/transactions_v2/\"\n",
    "    params={\n",
    "        'key':api_key\n",
    "        \n",
    "    }\n",
    "    try:\n",
    "        response=requests.get(url,params=params)\n",
    "        if response.status_code==200:\n",
    "            return response.json().get('data',{}).get('items',[])\n",
    "        else:\n",
    "            print(f'[ERROR] wallet {wallet}| Status\"{response.status_code}')\n",
    "            return []\n",
    "    except Exception as e:\n",
    "        print(f\"[EXCEPTION] Wallet {wallet} | {str(e)}\")\n",
    "        return []\n",
    "    \n",
    "all_transactions=[]\n",
    "\n",
    "for wallet in wallet_ids:\n",
    "    txns=fetch_compund_txns(wallet)\n",
    "    for txn in txns:\n",
    "        to_address=txn.get('to_address','')#.lower()\n",
    "        if to_address in [addr.lower() for addr in compound_contracts.values()]:\n",
    "            all_transactions.append({\n",
    "                \"wallet\": wallet,\n",
    "                \"hash\": txn[\"tx_hash\"],\n",
    "                \"value\": txn[\"value\"],\n",
    "                \"timestamp\": txn[\"block_signed_at\"],\n",
    "                \"contract\": to_address,\n",
    "                \"gas_spent\": txn[\"gas_spent\"],\n",
    "            })\n",
    "        time.sleep(1)\n",
    "        \n",
    "    "
   ]
  },
  {
   "cell_type": "code",
   "execution_count": null,
   "id": "f023d4b9",
   "metadata": {},
   "outputs": [],
   "source": []
  },
  {
   "cell_type": "code",
   "execution_count": 92,
   "id": "97d1f425",
   "metadata": {},
   "outputs": [
    {
     "data": {
      "text/plain": [
       "187"
      ]
     },
     "execution_count": 92,
     "metadata": {},
     "output_type": "execute_result"
    }
   ],
   "source": [
    "len(all_transactions)"
   ]
  },
  {
   "cell_type": "code",
   "execution_count": 97,
   "id": "735ec076",
   "metadata": {},
   "outputs": [],
   "source": [
    "df = pd.DataFrame(all_transactions)"
   ]
  },
  {
   "cell_type": "code",
   "execution_count": 98,
   "id": "331ec6d1",
   "metadata": {},
   "outputs": [
    {
     "name": "stdout",
     "output_type": "stream",
     "text": [
      "All data saved to compound_wallet_transactions.csv\n"
     ]
    }
   ],
   "source": [
    "df.to_csv(\"compound_wallet_transactions.csv\", index=False)\n",
    "print(\"All data saved to compound_wallet_transactions.csv\")"
   ]
  },
  {
   "cell_type": "code",
   "execution_count": 100,
   "id": "a0e68515",
   "metadata": {},
   "outputs": [
    {
     "data": {
      "text/html": [
       "<div>\n",
       "<style scoped>\n",
       "    .dataframe tbody tr th:only-of-type {\n",
       "        vertical-align: middle;\n",
       "    }\n",
       "\n",
       "    .dataframe tbody tr th {\n",
       "        vertical-align: top;\n",
       "    }\n",
       "\n",
       "    .dataframe thead th {\n",
       "        text-align: right;\n",
       "    }\n",
       "</style>\n",
       "<table border=\"1\" class=\"dataframe\">\n",
       "  <thead>\n",
       "    <tr style=\"text-align: right;\">\n",
       "      <th></th>\n",
       "      <th>wallet</th>\n",
       "      <th>hash</th>\n",
       "      <th>value</th>\n",
       "      <th>timestamp</th>\n",
       "      <th>contract</th>\n",
       "      <th>gas_spent</th>\n",
       "    </tr>\n",
       "  </thead>\n",
       "  <tbody>\n",
       "    <tr>\n",
       "      <th>0</th>\n",
       "      <td>0x06b51c6882b27cb05e712185531c1f74996dd988</td>\n",
       "      <td>0x25b33b7a990646ab6c0f22d2c4e91fe563bbd9b02e36...</td>\n",
       "      <td>0</td>\n",
       "      <td>2020-10-16T00:16:57Z</td>\n",
       "      <td>0x39aa39c021dfbae8fac545936693ac917d5e7563</td>\n",
       "      <td>174552</td>\n",
       "    </tr>\n",
       "    <tr>\n",
       "      <th>1</th>\n",
       "      <td>0x0795732aacc448030ef374374eaae57d2965c16c</td>\n",
       "      <td>0x22d03ef2de5abcb5dd724279e59b050c995d6b6308ff...</td>\n",
       "      <td>0</td>\n",
       "      <td>2020-11-25T13:13:37Z</td>\n",
       "      <td>0x39aa39c021dfbae8fac545936693ac917d5e7563</td>\n",
       "      <td>177613</td>\n",
       "    </tr>\n",
       "    <tr>\n",
       "      <th>2</th>\n",
       "      <td>0x0aaa79f1a86bc8136cd0d1ca0d51964f4e3766f9</td>\n",
       "      <td>0xe74e61815250aae8a2cab45a4ab4a98bcda6a3832591...</td>\n",
       "      <td>0</td>\n",
       "      <td>2020-12-12T06:15:09Z</td>\n",
       "      <td>0x39aa39c021dfbae8fac545936693ac917d5e7563</td>\n",
       "      <td>174525</td>\n",
       "    </tr>\n",
       "    <tr>\n",
       "      <th>3</th>\n",
       "      <td>0x0fe383e5abc200055a7f391f94a5f5d1f844b9ae</td>\n",
       "      <td>0x936f794a8eed05ee88765e3ddabb666473210fb18986...</td>\n",
       "      <td>0</td>\n",
       "      <td>2020-10-21T13:02:48Z</td>\n",
       "      <td>0x39aa39c021dfbae8fac545936693ac917d5e7563</td>\n",
       "      <td>174552</td>\n",
       "    </tr>\n",
       "    <tr>\n",
       "      <th>4</th>\n",
       "      <td>0x104ae61d8d487ad689969a17807ddc338b445416</td>\n",
       "      <td>0x44347e686635e8ae9efa4b2ba9703144ca6fd40921c7...</td>\n",
       "      <td>0</td>\n",
       "      <td>2020-12-16T05:19:37Z</td>\n",
       "      <td>0x39aa39c021dfbae8fac545936693ac917d5e7563</td>\n",
       "      <td>202745</td>\n",
       "    </tr>\n",
       "  </tbody>\n",
       "</table>\n",
       "</div>"
      ],
      "text/plain": [
       "                                       wallet  \\\n",
       "0  0x06b51c6882b27cb05e712185531c1f74996dd988   \n",
       "1  0x0795732aacc448030ef374374eaae57d2965c16c   \n",
       "2  0x0aaa79f1a86bc8136cd0d1ca0d51964f4e3766f9   \n",
       "3  0x0fe383e5abc200055a7f391f94a5f5d1f844b9ae   \n",
       "4  0x104ae61d8d487ad689969a17807ddc338b445416   \n",
       "\n",
       "                                                hash value  \\\n",
       "0  0x25b33b7a990646ab6c0f22d2c4e91fe563bbd9b02e36...     0   \n",
       "1  0x22d03ef2de5abcb5dd724279e59b050c995d6b6308ff...     0   \n",
       "2  0xe74e61815250aae8a2cab45a4ab4a98bcda6a3832591...     0   \n",
       "3  0x936f794a8eed05ee88765e3ddabb666473210fb18986...     0   \n",
       "4  0x44347e686635e8ae9efa4b2ba9703144ca6fd40921c7...     0   \n",
       "\n",
       "              timestamp                                    contract  gas_spent  \n",
       "0  2020-10-16T00:16:57Z  0x39aa39c021dfbae8fac545936693ac917d5e7563     174552  \n",
       "1  2020-11-25T13:13:37Z  0x39aa39c021dfbae8fac545936693ac917d5e7563     177613  \n",
       "2  2020-12-12T06:15:09Z  0x39aa39c021dfbae8fac545936693ac917d5e7563     174525  \n",
       "3  2020-10-21T13:02:48Z  0x39aa39c021dfbae8fac545936693ac917d5e7563     174552  \n",
       "4  2020-12-16T05:19:37Z  0x39aa39c021dfbae8fac545936693ac917d5e7563     202745  "
      ]
     },
     "execution_count": 100,
     "metadata": {},
     "output_type": "execute_result"
    }
   ],
   "source": [
    "df.head()"
   ]
  },
  {
   "cell_type": "code",
   "execution_count": 101,
   "id": "8d98a5fb",
   "metadata": {},
   "outputs": [],
   "source": [
    "df['timestamp'] = pd.to_datetime(df['timestamp'])\n",
    "\n",
    "features = df.groupby('wallet').agg(\n",
    "    txn_count=('hash', 'count'),\n",
    "    unique_contracts=('contract', pd.Series.nunique),\n",
    "    total_value=('value', 'sum'),\n",
    "    avg_gas_spent=('gas_spent', 'mean'),\n",
    "    first_tx_time=('timestamp', 'min'),\n",
    "    last_tx_time=('timestamp', 'max')\n",
    ").reset_index()\n",
    "\n",
    "# Compute derived features\n",
    "features['active_days'] = (features['last_tx_time'] - features['first_tx_time']).dt.days + 1\n",
    "features['frequency_per_day'] = features['txn_count'] / features['active_days']\n"
   ]
  },
  {
   "cell_type": "code",
   "execution_count": 102,
   "id": "50cca5f4",
   "metadata": {},
   "outputs": [
    {
     "name": "stdout",
     "output_type": "stream",
     "text": [
      "Features saved to compound_wallet_features.csv\n"
     ]
    }
   ],
   "source": [
    "features.to_csv(\"compound_wallet_features.csv\", index=False)\n",
    "print(\"Features saved to compound_wallet_features.csv\")\n"
   ]
  },
  {
   "cell_type": "code",
   "execution_count": 111,
   "id": "4b804412",
   "metadata": {},
   "outputs": [],
   "source": [
    "scaler = MinMaxScaler()\n",
    "features_numeric = features[['txn_count', 'unique_contracts', 'total_value', 'avg_gas_spent', 'frequency_per_day']]\n",
    "normalized = scaler.fit_transform(features_numeric)"
   ]
  },
  {
   "cell_type": "code",
   "execution_count": 112,
   "id": "6f83b61e",
   "metadata": {},
   "outputs": [],
   "source": [
    "features['score'] = normalized.mean(axis=1)\n",
    "\n"
   ]
  },
  {
   "cell_type": "code",
   "execution_count": 113,
   "id": "ffaa45bf",
   "metadata": {},
   "outputs": [
    {
     "name": "stdout",
     "output_type": "stream",
     "text": [
      "Deliverable saved to compound_wallet_scores.csv\n"
     ]
    }
   ],
   "source": [
    "final_output = features[['wallet', 'score']].rename(columns={'wallet': 'wallet_id'})\n",
    "final_output.to_csv(\"compound_wallet_scores.csv\", index=False)\n",
    "print(\"Deliverable saved to compound_wallet_scores.csv\")"
   ]
  },
  {
   "cell_type": "code",
   "execution_count": 117,
   "id": "d7573d16",
   "metadata": {},
   "outputs": [
    {
     "data": {
      "text/html": [
       "<div>\n",
       "<style scoped>\n",
       "    .dataframe tbody tr th:only-of-type {\n",
       "        vertical-align: middle;\n",
       "    }\n",
       "\n",
       "    .dataframe tbody tr th {\n",
       "        vertical-align: top;\n",
       "    }\n",
       "\n",
       "    .dataframe thead th {\n",
       "        text-align: right;\n",
       "    }\n",
       "</style>\n",
       "<table border=\"1\" class=\"dataframe\">\n",
       "  <thead>\n",
       "    <tr style=\"text-align: right;\">\n",
       "      <th></th>\n",
       "      <th>wallet_id</th>\n",
       "      <th>score</th>\n",
       "    </tr>\n",
       "  </thead>\n",
       "  <tbody>\n",
       "    <tr>\n",
       "      <th>0</th>\n",
       "      <td>0x06b51c6882b27cb05e712185531c1f74996dd988</td>\n",
       "      <td>0.127821</td>\n",
       "    </tr>\n",
       "    <tr>\n",
       "      <th>1</th>\n",
       "      <td>0x0795732aacc448030ef374374eaae57d2965c16c</td>\n",
       "      <td>0.129647</td>\n",
       "    </tr>\n",
       "    <tr>\n",
       "      <th>2</th>\n",
       "      <td>0x0aaa79f1a86bc8136cd0d1ca0d51964f4e3766f9</td>\n",
       "      <td>0.127805</td>\n",
       "    </tr>\n",
       "  </tbody>\n",
       "</table>\n",
       "</div>"
      ],
      "text/plain": [
       "                                    wallet_id     score\n",
       "0  0x06b51c6882b27cb05e712185531c1f74996dd988  0.127821\n",
       "1  0x0795732aacc448030ef374374eaae57d2965c16c  0.129647\n",
       "2  0x0aaa79f1a86bc8136cd0d1ca0d51964f4e3766f9  0.127805"
      ]
     },
     "execution_count": 117,
     "metadata": {},
     "output_type": "execute_result"
    }
   ],
   "source": [
    "final_output.head(3)"
   ]
  },
  {
   "cell_type": "code",
   "execution_count": null,
   "id": "38156e28",
   "metadata": {},
   "outputs": [],
   "source": []
  },
  {
   "cell_type": "markdown",
   "id": "88dc4e3d",
   "metadata": {},
   "source": []
  }
 ],
 "metadata": {
  "kernelspec": {
   "display_name": "api_env",
   "language": "python",
   "name": "python3"
  },
  "language_info": {
   "codemirror_mode": {
    "name": "ipython",
    "version": 3
   },
   "file_extension": ".py",
   "mimetype": "text/x-python",
   "name": "python",
   "nbconvert_exporter": "python",
   "pygments_lexer": "ipython3",
   "version": "3.10.18"
  }
 },
 "nbformat": 4,
 "nbformat_minor": 5
}
